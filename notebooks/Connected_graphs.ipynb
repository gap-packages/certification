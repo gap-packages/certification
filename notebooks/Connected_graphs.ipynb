{
 "cells": [
  {
   "cell_type": "markdown",
   "id": "9942513e",
   "metadata": {},
   "source": [
    "# Example: graph connectedness"
   ]
  },
  {
   "cell_type": "code",
   "execution_count": 1,
   "id": "7eeccc99",
   "metadata": {},
   "outputs": [
    {
     "name": "stdout",
     "output_type": "stream",
     "text": [
      "#E  component `Subtitle' must be bound to a string\n",
      "#E  component `ArchiveURL' must be bound to a string started with http://, htt\\\n",
      "ps:// or ftp://\n",
      "#E  component `ArchiveFormats' must be bound to a string\n",
      "#E  component `Status' must be bound to one of \"accepted\", \"deposited\", \"dev\",\\\n",
      " \"other\"\n",
      "#E  component `README_URL' must be bound to a string started with http://, htt\\\n",
      "ps:// or ftp://\n",
      "#E  component `PackageInfoURL' must be bound to a string started with http://,\\\n",
      " https:// or ftp://\n",
      "#E  component `AbstractHTML' must be bound to a string\n",
      "#E  component `PackageWWWHome' must be bound to a string started with http://,\\\n",
      " https:// or ftp://\n",
      "#E Validation of package certification from /Users/obk1/Library/Preferences/GA\\\n",
      "P/pkg/certification failed\n"
     ]
    },
    {
     "data": {
      "text/plain": [
       "true"
      ]
     },
     "execution_count": 1,
     "metadata": {
      "text/plain": ""
     },
     "output_type": "execute_result"
    }
   ],
   "source": [
    "LoadPackage(\"certification\");"
   ]
  },
  {
   "cell_type": "code",
   "execution_count": null,
   "id": "1fbf8a1b",
   "metadata": {},
   "outputs": [
    {
     "data": {
      "text/plain": [
       "true"
      ]
     },
     "execution_count": 2,
     "metadata": {
      "text/plain": ""
     },
     "output_type": "execute_result"
    }
   ],
   "source": [
    "LoadPackage(\"digraphs\");"
   ]
  },
  {
   "cell_type": "code",
   "execution_count": null,
   "id": "450f3685",
   "metadata": {},
   "outputs": [
    {
     "data": {
      "text/plain": [
       "true"
      ]
     },
     "execution_count": 3,
     "metadata": {
      "text/plain": ""
     },
     "output_type": "execute_result"
    }
   ],
   "source": [
    "ReadPackage( \"certification\", \"tst/connected_graph_certificate.g\");"
   ]
  },
  {
   "cell_type": "code",
   "execution_count": 4,
   "id": "72637f90",
   "metadata": {},
   "outputs": [
    {
     "data": {
      "text/plain": [
       "<immutable digraph with 7 vertices, 14 edges>"
      ]
     },
     "execution_count": 4,
     "metadata": {
      "text/plain": ""
     },
     "output_type": "execute_result"
    }
   ],
   "source": [
    "D := Digraph([ [7,2], [1,3], [2,4], [3,5], [4,6], [5,7], [6,1] ]);"
   ]
  },
  {
   "cell_type": "code",
   "execution_count": 5,
   "id": "6281945f",
   "metadata": {},
   "outputs": [
    {
     "data": {
      "text/plain": [
       "[ true,   rec(       connectivityCertificate :=         rec(           distToRoot := [ [ 0, 0 ], [ 1, 1 ], [ 2, 2 ], [ 3, 3 ], [ 4, 3 ],               [ 5, 2 ], [ 6, 1 ] ],           next := [ [ 0, 0 ], [ 1, 0 ], [ 2, 1 ], [ 3, 2 ], [ 4, 5 ],               [ 5, 6 ], [ 6, 0 ] ], root := 0 ),       graph :=         rec(           edges := [ [ 0, 1 ], [ 0, 6 ], [ 1, 2 ], [ 2, 3 ], [ 3, 4 ],               [ 4, 5 ], [ 5, 6 ] ], vertexSize := 7 ) ) ]"
      ]
     },
     "execution_count": 5,
     "metadata": {
      "text/plain": ""
     },
     "output_type": "execute_result"
    }
   ],
   "source": [
    "res := IsConnectedDigraph_Certified(D);"
   ]
  },
  {
   "cell_type": "code",
   "execution_count": 6,
   "id": "617e109d",
   "metadata": {},
   "outputs": [
    {
     "name": "stdout",
     "output_type": "stream",
     "text": [
      "rec(\n",
      "  connectivityCertificate := rec(\n",
      "      distToRoot := [ [ 0, 0 ], [ 1, 1 ], [ 2, 2 ], [ 3, 3 ], [ 4, 3 ], \n",
      "          [ 5, 2 ], [ 6, 1 ] ],\n",
      "      next := [ [ 0, 0 ], [ 1, 0 ], [ 2, 1 ], [ 3, 2 ], [ 4, 5 ], [ 5, 6 ], \n",
      "          [ 6, 0 ] ],\n",
      "      root := 0 ),\n",
      "  graph := rec(\n",
      "      edges := [ [ 0, 1 ], [ 0, 6 ], [ 1, 2 ], [ 2, 3 ], [ 3, 4 ], [ 4, 5 ], \n",
      "          [ 5, 6 ] ],\n",
      "      vertexSize := 7 ) )"
     ]
    }
   ],
   "source": [
    "Print(res[2]);"
   ]
  },
  {
   "cell_type": "code",
   "execution_count": 7,
   "id": "e5ef27c2",
   "metadata": {},
   "outputs": [
    {
     "name": "stdout",
     "output_type": "stream",
     "text": [
      "{\"connectivityCertificate\" : {\"distToRoot\" : [[0,0],[1,1],[2,2],[3,3],[4,3],[5\\\n",
      ",2],[6,1]],\"next\" : [[0,0],[1,0],[2,1],[3,2],[4,5],[5,6],[6,0]],\"root\" : 0},\"g\\\n",
      "raph\" : {\"edges\" : [[0,1],[0,6],[1,2],[2,3],[3,4],[4,5],[5,6]],\"vertexSize\" : \\\n",
      "7}}\n"
     ]
    }
   ],
   "source": [
    "Print(GapToJsonString(res[2]),\"\\n\");"
   ]
  },
  {
   "cell_type": "code",
   "execution_count": 8,
   "id": "66524d6c",
   "metadata": {},
   "outputs": [
    {
     "data": {
      "text/plain": [
       "<immutable digraph with 3 vertices, 2 edges>"
      ]
     },
     "execution_count": 8,
     "metadata": {
      "text/plain": ""
     },
     "output_type": "execute_result"
    }
   ],
   "source": [
    "D := Digraph([[2], [1], []]);"
   ]
  },
  {
   "cell_type": "code",
   "execution_count": 9,
   "id": "b104ebe3",
   "metadata": {},
   "outputs": [
    {
     "data": {
      "text/plain": [
       "[ false,   rec( graph := rec( edges := [ [ 0, 1 ] ], vertexSize := 3 ),       nonconnectivityCertificate :=         rec( color := [ [ 0, 0 ], [ 1, 0 ], [ 2, 1 ] ], vertex0 := 0,           vertex1 := 2 ) ) ]"
      ]
     },
     "execution_count": 9,
     "metadata": {
      "text/plain": ""
     },
     "output_type": "execute_result"
    }
   ],
   "source": [
    "res := IsConnectedDigraph_Certified(D);"
   ]
  },
  {
   "cell_type": "code",
   "execution_count": 10,
   "id": "d2d1d765",
   "metadata": {},
   "outputs": [
    {
     "name": "stdout",
     "output_type": "stream",
     "text": [
      "rec(\n",
      "  graph := rec(\n",
      "      edges := [ [ 0, 1 ] ],\n",
      "      vertexSize := 3 ),\n",
      "  nonconnectivityCertificate := rec(\n",
      "      color := [ [ 0, 0 ], [ 1, 0 ], [ 2, 1 ] ],\n",
      "      vertex0 := 0,\n",
      "      vertex1 := 2 ) )"
     ]
    }
   ],
   "source": [
    "Print(res[2]);"
   ]
  },
  {
   "cell_type": "code",
   "execution_count": 11,
   "id": "0c0f1740",
   "metadata": {},
   "outputs": [
    {
     "name": "stdout",
     "output_type": "stream",
     "text": [
      "{\"graph\" : {\"edges\" : [[0,1]],\"vertexSize\" : 3},\"nonconnectivityCertificate\" :\\\n",
      " {\"color\" : [[0,0],[1,0],[2,1]],\"vertex0\" : 0,\"vertex1\" : 2}}\n"
     ]
    }
   ],
   "source": [
    "Print(GapToJsonString(res[2]),\"\\n\");"
   ]
  }
 ],
 "metadata": {
  "kernelspec": {
   "display_name": "GAP 4",
   "language": "gap",
   "name": "gap-4"
  },
  "language_info": {
   "codemirror_mode": "gap",
   "file_extension": ".g",
   "mimetype": "text/x-gap",
   "name": "GAP 4",
   "nbconvert_exporter": "",
   "pygments_lexer": "gap",
   "version": "4.12.2"
  }
 },
 "nbformat": 4,
 "nbformat_minor": 5
}
