{
 "cells": [
  {
   "cell_type": "markdown",
   "id": "9942513e",
   "metadata": {},
   "source": [
    "# Example: graph connectedness"
   ]
  },
  {
   "cell_type": "code",
   "execution_count": 1,
   "id": "7eeccc99",
   "metadata": {},
   "outputs": [
    {
     "name": "stdout",
     "output_type": "stream",
     "text": [
      "#E  component `Subtitle' must be bound to a string\n",
      "#E  component `ArchiveURL' must be bound to a string started with http://, htt\\\n",
      "ps:// or ftp://\n",
      "#E  component `ArchiveFormats' must be bound to a string\n",
      "#E  component `Status' must be bound to one of \"accepted\", \"deposited\", \"dev\",\\\n",
      " \"other\"\n",
      "#E  component `README_URL' must be bound to a string started with http://, htt\\\n",
      "ps:// or ftp://\n",
      "#E  component `PackageInfoURL' must be bound to a string started with http://,\\\n",
      " https:// or ftp://\n",
      "#E  component `AbstractHTML' must be bound to a string\n",
      "#E  component `PackageWWWHome' must be bound to a string started with http://,\\\n",
      " https:// or ftp://\n",
      "#E Validation of package certification from /Users/obk1/Library/Preferences/GA\\\n",
      "P/pkg/certification failed\n"
     ]
    },
    {
     "data": {
      "text/plain": [
       "true"
      ]
     },
     "execution_count": 1,
     "metadata": {
      "text/plain": ""
     },
     "output_type": "execute_result"
    }
   ],
   "source": [
    "LoadPackage(\"certification\");"
   ]
  },
  {
   "cell_type": "code",
   "execution_count": 2,
   "id": "1fbf8a1b",
   "metadata": {},
   "outputs": [
    {
     "data": {
      "text/plain": [
       "true"
      ]
     },
     "execution_count": 2,
     "metadata": {
      "text/plain": ""
     },
     "output_type": "execute_result"
    }
   ],
   "source": [
    "LoadPackage(\"digraphs\");"
   ]
  },
  {
   "cell_type": "code",
   "execution_count": 3,
   "id": "a60ac495",
   "metadata": {},
   "outputs": [
    {
     "data": {
      "text/plain": [
       "function( is_connected, g ) ... end"
      ]
     },
     "execution_count": 3,
     "metadata": {
      "text/plain": ""
     },
     "output_type": "execute_result"
    }
   ],
   "source": [
    "connected_graph_certificate := function( is_connected, g )\n",
    "local cr;\n",
    "if is_connected then\n",
    "  Print(\"connected!\\n\");\n",
    "  cr := rec( \n",
    "    graph := rec( \n",
    "      vertexSize := DigraphNrVertices(g)));\n",
    "  Print(cr,\"\\n\");  \n",
    "  Print(GapToJsonString(cr),\"\\n\");  \n",
    "else\n",
    "  Print(\"not connected!\\n\");\n",
    "fi;\n",
    "end;"
   ]
  },
  {
   "cell_type": "code",
   "execution_count": 4,
   "id": "57c79c5d",
   "metadata": {},
   "outputs": [
    {
     "data": {
      "text/plain": [
       "<certified <Property \"IsConnectedDigraph\">>"
      ]
     },
     "execution_count": 4,
     "metadata": {
      "text/plain": ""
     },
     "output_type": "execute_result"
    }
   ],
   "source": [
    "IsConnectedDigraph_Certified := \n",
    "    CertifiedFunction( IsConnectedDigraph,\n",
    "    rec( certifunc := connected_graph_certificate) );"
   ]
  },
  {
   "cell_type": "code",
   "execution_count": 5,
   "id": "72637f90",
   "metadata": {},
   "outputs": [
    {
     "data": {
      "text/plain": [
       "<immutable digraph with 3 vertices, 2 edges>"
      ]
     },
     "execution_count": 5,
     "metadata": {
      "text/plain": ""
     },
     "output_type": "execute_result"
    }
   ],
   "source": [
    "D := Digraph([[2], [3], []]);"
   ]
  },
  {
   "cell_type": "code",
   "execution_count": 6,
   "id": "6281945f",
   "metadata": {},
   "outputs": [
    {
     "name": "stdout",
     "output_type": "stream",
     "text": [
      "got result true\n",
      "certifying...\n",
      "connected!\n",
      "rec(\n",
      "  graph := rec(\n",
      "      vertexSize := 3 ) )\n",
      "{\"graph\" : {\"vertexSize\" : 3}}\n"
     ]
    },
    {
     "data": {
      "text/plain": [
       "true"
      ]
     },
     "execution_count": 6,
     "metadata": {
      "text/plain": ""
     },
     "output_type": "execute_result"
    }
   ],
   "source": [
    "IsConnectedDigraph_Certified(D);"
   ]
  }
 ],
 "metadata": {
  "kernelspec": {
   "display_name": "GAP 4",
   "language": "gap",
   "name": "gap-4"
  },
  "language_info": {
   "codemirror_mode": "gap",
   "file_extension": ".g",
   "mimetype": "text/x-gap",
   "name": "GAP 4",
   "nbconvert_exporter": "",
   "pygments_lexer": "gap",
   "version": "4.12.2"
  }
 },
 "nbformat": 4,
 "nbformat_minor": 5
}
