{
 "cells": [
  {
   "cell_type": "markdown",
   "id": "9942513e",
   "metadata": {},
   "source": [
    "# Example: graph connectedness"
   ]
  },
  {
   "cell_type": "code",
   "execution_count": 1,
   "id": "7eeccc99",
   "metadata": {},
   "outputs": [
    {
     "name": "stdout",
     "output_type": "stream",
     "text": [
      "#E  component `Subtitle' must be bound to a string\n",
      "#E  component `ArchiveURL' must be bound to a string started with http://, htt\\\n",
      "ps:// or ftp://\n",
      "#E  component `ArchiveFormats' must be bound to a string\n",
      "#E  component `Status' must be bound to one of \"accepted\", \"deposited\", \"dev\",\\\n",
      " \"other\"\n",
      "#E  component `README_URL' must be bound to a string started with http://, htt\\\n",
      "ps:// or ftp://\n",
      "#E  component `PackageInfoURL' must be bound to a string started with http://,\\\n",
      " https:// or ftp://\n",
      "#E  component `AbstractHTML' must be bound to a string\n",
      "#E  component `PackageWWWHome' must be bound to a string started with http://,\\\n",
      " https:// or ftp://\n",
      "#E Validation of package certification from /Users/obk1/Library/Preferences/GA\\\n",
      "P/pkg/certification failed\n"
     ]
    },
    {
     "data": {
      "text/plain": [
       "true"
      ]
     },
     "execution_count": 1,
     "metadata": {
      "text/plain": ""
     },
     "output_type": "execute_result"
    }
   ],
   "source": [
    "LoadPackage(\"certification\");"
   ]
  },
  {
   "cell_type": "code",
   "execution_count": 2,
   "id": "1fbf8a1b",
   "metadata": {},
   "outputs": [
    {
     "data": {
      "text/plain": [
       "true"
      ]
     },
     "execution_count": 2,
     "metadata": {
      "text/plain": ""
     },
     "output_type": "execute_result"
    }
   ],
   "source": [
    "LoadPackage(\"digraphs\");"
   ]
  },
  {
   "cell_type": "code",
   "execution_count": 3,
   "id": "8dd7a0c5",
   "metadata": {},
   "outputs": [
    {
     "data": {
      "text/plain": [
       "function( g ) ... end"
      ]
     },
     "execution_count": 3,
     "metadata": {
      "text/plain": ""
     },
     "output_type": "execute_result"
    }
   ],
   "source": [
    "Graph2Lean:=function(g)\n",
    "local edges_from_zero, x, i;\n",
    "edges_from_zero := List( DigraphEdges(g), x -> List(x, i -> i-1) );\n",
    "return rec( vertexSize := DigraphNrVertices(g),\n",
    "                 edges := Set(List(edges_from_zero,SortedList)));\n",
    "end;"
   ]
  },
  {
   "cell_type": "code",
   "execution_count": 4,
   "id": "82c98927",
   "metadata": {},
   "outputs": [
    {
     "data": {
      "text/plain": [
       "function( g ) ... end"
      ]
     },
     "execution_count": 4,
     "metadata": {
      "text/plain": ""
     },
     "output_type": "execute_result"
    }
   ],
   "source": [
    "ConnectivityCertificate2Lean:=function(g)\n",
    "local root, reverse_spanning_tree, next, i, distToRoot;\n",
    "root := 1;\n",
    "reverse_spanning_tree := DigraphReverse( DigraphShortestPathSpanningTree(g, root));\n",
    "next := ShallowCopy(OutNeighbours(reverse_spanning_tree));\n",
    "for i in [1..DigraphNrVertices(g)] do\n",
    "  if next[i] = [ ] then\n",
    "    # we have root\n",
    "    next[i] := [i-1,i-1];\n",
    "  else\n",
    "    next[i] := Concatenation([i-1], next[i]-1);\n",
    "  fi;\n",
    "od;\n",
    "distToRoot := [ ];\n",
    "for i in [1..DigraphNrVertices(g)] do\n",
    "  if i = root then\n",
    "    Add(distToRoot, [i-1,0]);\n",
    "  else\n",
    "    Add(distToRoot, [i-1, Length(DigraphShortestPath(reverse_spanning_tree,i,root)[1])-1] );\n",
    "  fi;\n",
    "od;\n",
    "return rec( root := root-1,\n",
    "            next := next,\n",
    "      distToRoot := distToRoot);\n",
    "end;"
   ]
  },
  {
   "cell_type": "code",
   "execution_count": 5,
   "id": "5e4f9408",
   "metadata": {},
   "outputs": [
    {
     "data": {
      "text/plain": [
       "function( is_connected, g ) ... end"
      ]
     },
     "execution_count": 5,
     "metadata": {
      "text/plain": ""
     },
     "output_type": "execute_result"
    }
   ],
   "source": [
    "connected_graph_certificate := function( is_connected, g )\n",
    "local cr;\n",
    "if is_connected then\n",
    "  cr := rec( graph := Graph2Lean(g),\n",
    "             connectivityCertificate := ConnectivityCertificate2Lean(g) );\n",
    "else\n",
    "  cr := rec( graph := Graph2Lean(g),\n",
    "             nonconnectivityCertificate := \"TO BE IMPLEMENTED\" );\n",
    "fi;\n",
    "return cr;\n",
    "end;"
   ]
  },
  {
   "cell_type": "code",
   "execution_count": 6,
   "id": "a60ac495",
   "metadata": {},
   "outputs": [
    {
     "data": {
      "text/plain": [
       "<certified <Property \"IsConnectedDigraph\">>"
      ]
     },
     "execution_count": 6,
     "metadata": {
      "text/plain": ""
     },
     "output_type": "execute_result"
    }
   ],
   "source": [
    "IsConnectedDigraph_Certified := CertifiedFunction( \n",
    "  IsConnectedDigraph,\n",
    "  rec( certifunc := connected_graph_certificate) );"
   ]
  },
  {
   "cell_type": "code",
   "execution_count": 7,
   "id": "72637f90",
   "metadata": {},
   "outputs": [
    {
     "data": {
      "text/plain": [
       "<immutable digraph with 7 vertices, 14 edges>"
      ]
     },
     "execution_count": 7,
     "metadata": {
      "text/plain": ""
     },
     "output_type": "execute_result"
    }
   ],
   "source": [
    "D := Digraph([ [7,2], [1,3], [2,4], [3,5], [4,6], [5,7], [6,1] ]);"
   ]
  },
  {
   "cell_type": "code",
   "execution_count": 8,
   "id": "6281945f",
   "metadata": {},
   "outputs": [
    {
     "data": {
      "text/plain": [
       "[ true,   rec(       connectivityCertificate :=         rec(           distToRoot := [ [ 0, 0 ], [ 1, 1 ], [ 2, 2 ], [ 3, 3 ], [ 4, 3 ],               [ 5, 2 ], [ 6, 1 ] ],           next := [ [ 0, 0 ], [ 1, 0 ], [ 2, 1 ], [ 3, 2 ], [ 4, 5 ],               [ 5, 6 ], [ 6, 0 ] ], root := 0 ),       graph :=         rec(           edges := [ [ 0, 1 ], [ 0, 6 ], [ 1, 2 ], [ 2, 3 ], [ 3, 4 ],               [ 4, 5 ], [ 5, 6 ] ], vertexSize := 7 ) ) ]"
      ]
     },
     "execution_count": 8,
     "metadata": {
      "text/plain": ""
     },
     "output_type": "execute_result"
    }
   ],
   "source": [
    "res := IsConnectedDigraph_Certified(D);"
   ]
  },
  {
   "cell_type": "code",
   "execution_count": 9,
   "id": "617e109d",
   "metadata": {},
   "outputs": [
    {
     "name": "stdout",
     "output_type": "stream",
     "text": [
      "rec(\n",
      "  connectivityCertificate := rec(\n",
      "      distToRoot := [ [ 0, 0 ], [ 1, 1 ], [ 2, 2 ], [ 3, 3 ], [ 4, 3 ], \n",
      "          [ 5, 2 ], [ 6, 1 ] ],\n",
      "      next := [ [ 0, 0 ], [ 1, 0 ], [ 2, 1 ], [ 3, 2 ], [ 4, 5 ], [ 5, 6 ], \n",
      "          [ 6, 0 ] ],\n",
      "      root := 0 ),\n",
      "  graph := rec(\n",
      "      edges := [ [ 0, 1 ], [ 0, 6 ], [ 1, 2 ], [ 2, 3 ], [ 3, 4 ], [ 4, 5 ], \n",
      "          [ 5, 6 ] ],\n",
      "      vertexSize := 7 ) )"
     ]
    }
   ],
   "source": [
    "Print(res[2]);"
   ]
  },
  {
   "cell_type": "code",
   "execution_count": 10,
   "id": "e5ef27c2",
   "metadata": {},
   "outputs": [
    {
     "name": "stdout",
     "output_type": "stream",
     "text": [
      "{\"connectivityCertificate\" : {\"distToRoot\" : [[0,0],[1,1],[2,2],[3,3],[4,3],[5\\\n",
      ",2],[6,1]],\"next\" : [[0,0],[1,0],[2,1],[3,2],[4,5],[5,6],[6,0]],\"root\" : 0},\"g\\\n",
      "raph\" : {\"edges\" : [[0,1],[0,6],[1,2],[2,3],[3,4],[4,5],[5,6]],\"vertexSize\" : \\\n",
      "7}}\n"
     ]
    }
   ],
   "source": [
    "Print(GapToJsonString(res[2]),\"\\n\");"
   ]
  }
 ],
 "metadata": {
  "kernelspec": {
   "display_name": "GAP 4",
   "language": "gap",
   "name": "gap-4"
  },
  "language_info": {
   "codemirror_mode": "gap",
   "file_extension": ".g",
   "mimetype": "text/x-gap",
   "name": "GAP 4",
   "nbconvert_exporter": "",
   "pygments_lexer": "gap",
   "version": "4.12.2"
  }
 },
 "nbformat": 4,
 "nbformat_minor": 5
}
